{
 "cells": [
  {
   "cell_type": "markdown",
   "id": "bee18586-f05a-4514-993b-1b760746edf9",
   "metadata": {},
   "source": [
    "# Data Science Tools and Ecosystem"
   ]
  },
  {
   "cell_type": "markdown",
   "id": "ed677d0f-8e9a-4cc5-8d0b-d0daa9d5652b",
   "metadata": {},
   "source": [
    "In this notebook, Data Science Tools and Ecosystem are summarized."
   ]
  },
  {
   "cell_type": "markdown",
   "id": "46541266-5705-4551-96ed-8c13beafdce9",
   "metadata": {},
   "source": [
    "**Objectives:**\n",
    "- List popular languages for Data Science\n",
    "- Describe common Data Science libraries\n",
    "- Provide examples of simple arithmetic in Python"
   ]
  },
  {
   "cell_type": "markdown",
   "id": "764765f4-5b57-44ea-94b5-a18aff11b6a0",
   "metadata": {},
   "source": [
    "Some of the popular languages that Data Scientists use are:\n",
    "1. Python\n",
    "2. R\n",
    "3. Julia"
   ]
  },
  {
   "cell_type": "markdown",
   "id": "e6552084-6888-4f1a-b3c2-a552ea3ee8fa",
   "metadata": {},
   "source": [
    "Some of the commonly used libraries used by Data Scientists include:\n",
    "1. pandas\n",
    "2. numpy\n",
    "3. scikit-learn"
   ]
  },
  {
   "cell_type": "markdown",
   "id": "7600dc5d-dfad-45f6-a9a1-889a67a44095",
   "metadata": {},
   "source": [
    "| Data Science Tools |\n",
    "|--------------------|\n",
    "| Jupyter Notebook   |\n",
    "| Google Colab       |\n",
    "| RStudio            |"
   ]
  },
  {
   "cell_type": "markdown",
   "id": "c9c73f40-c7d3-489d-adeb-6c29079223d0",
   "metadata": {},
   "source": [
    "### Below are a few examples of evaluating arithmetic expressions in Python."
   ]
  },
  {
   "cell_type": "code",
   "execution_count": 1,
   "id": "02947f4c-e9ea-4816-906f-2a9411e3a294",
   "metadata": {},
   "outputs": [
    {
     "data": {
      "text/plain": [
       "17"
      ]
     },
     "execution_count": 1,
     "metadata": {},
     "output_type": "execute_result"
    }
   ],
   "source": [
    "# This is a simple arithmetic expression to multiply then add integers.\n",
    "(3*4) + 5"
   ]
  },
  {
   "cell_type": "code",
   "execution_count": 2,
   "id": "1db2ff4b-518a-473a-9d19-76e2b43d6d2a",
   "metadata": {},
   "outputs": [
    {
     "data": {
      "text/plain": [
       "3.3333333333333335"
      ]
     },
     "execution_count": 2,
     "metadata": {},
     "output_type": "execute_result"
    }
   ],
   "source": [
    "# This will convert 200 minutes to hours by dividing by 60.\n",
    "200 / 60"
   ]
  },
  {
   "cell_type": "markdown",
   "id": "02b4f533-1373-477d-98b3-85abe991899e",
   "metadata": {},
   "source": [
    "## Author\n",
    "Pablo Rodriguez Cordoves"
   ]
  }
 ],
 "metadata": {
  "kernelspec": {
   "display_name": "Python 3 (ipykernel)",
   "language": "python",
   "name": "python3"
  },
  "language_info": {
   "codemirror_mode": {
    "name": "ipython",
    "version": 3
   },
   "file_extension": ".py",
   "mimetype": "text/x-python",
   "name": "python",
   "nbconvert_exporter": "python",
   "pygments_lexer": "ipython3",
   "version": "3.10.9"
  }
 },
 "nbformat": 4,
 "nbformat_minor": 5
}
